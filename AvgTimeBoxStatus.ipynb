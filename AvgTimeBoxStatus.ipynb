{
 "cells": [
  {
   "cell_type": "code",
   "execution_count": 7,
   "id": "3835d09a",
   "metadata": {},
   "outputs": [],
   "source": [
    "import pyspark"
   ]
  },
  {
   "cell_type": "code",
   "execution_count": 8,
   "id": "189d369a",
   "metadata": {},
   "outputs": [],
   "source": [
    "from pyspark.sql import SparkSession"
   ]
  },
  {
   "cell_type": "code",
   "execution_count": 9,
   "id": "0d66e31f",
   "metadata": {},
   "outputs": [],
   "source": [
    "spark=SparkSession.builder.appName('Practice').getOrCreate()"
   ]
  },
  {
   "cell_type": "code",
   "execution_count": 10,
   "id": "233577f3",
   "metadata": {},
   "outputs": [],
   "source": [
    "box_status_df=spark.read.option('header','true').option(\"multiLine\", \"true\").csv('DataDemo/04. Lịch sử box.csv',inferSchema=True)"
   ]
  },
  {
   "cell_type": "code",
   "execution_count": 11,
   "id": "b450d0a2",
   "metadata": {},
   "outputs": [
    {
     "name": "stdout",
     "output_type": "stream",
     "text": [
      "+--------------------+------------------+------------+----------+-----------+------------+-----------------+--------------------+--------------------+-----------+--------------------+----------------+-------------------+-------+--------------------+--------------------+\n",
      "|              box_id|request_box_number|service_code|est_pickup|pickup_code|est_delivery|delivery_tikicode|              status|          sub_status|reason_code|             comment|rescheduled_date|       updated_time|station|               actor|              action|\n",
      "+--------------------+------------------+------------+----------+-----------+------------+-----------------+--------------------+--------------------+-----------+--------------------+----------------+-------------------+-------+--------------------+--------------------+\n",
      "|532eea67-942a-4cf...|         582871688|    standard|       hn5|VN034025004|          dn|      VN058002015|  transferred_to_3pl|          in_transit|       null|JNT - Đang luân c...|            null|2022-09-02 17:24:13|   null|  customers:24570065|request:managemen...|\n",
      "|532eea67-942a-4cf...|         582871688|    standard|       hn5|VN034025004|          dn|      VN058002015|  transferred_to_3pl|          in_transit|       null|JNT - Đang luân c...|            null|2022-09-02 23:06:08|   null|  customers:24570065|request:managemen...|\n",
      "|532eea67-942a-4cf...|         582871688|    standard|       hn5|VN034025004|          dn|      VN058002015|  transferred_to_3pl|          delivering|       null|JNT - Trên đường ...|            null|2022-09-03 01:26:22|   null|  customers:24570065|request:managemen...|\n",
      "|532eea67-942a-4cf...|         582871688|    standard|       hn5|VN034025004|          dn|      VN058002015|  transferred_to_3pl|arrived_at_lastmi...|       null|JNT - Tới trạm gi...|            null|2022-09-02 23:00:08|   null|  customers:24570065|request:managemen...|\n",
      "|532eea67-942a-4cf...|         582871688|    standard|       hn5|VN034025004|          dn|      VN058002015|  transferred_to_3pl|arrived_at_lastmi...|       null|JNT - Tới trạm gi...|            null|2022-09-03 00:16:12|   null|  customers:24570065|request:managemen...|\n",
      "|532eea67-942a-4cf...|         582871688|    standard|       hn5|VN034025004|          dn|      VN058002015|           completed|    delivered_by_3pl|       null|Tự động hoàn thàn...|            null|2022-09-03 03:14:12|   null|tms.system.auto@g...|lastmile:driverba...|\n",
      "|532eea67-942a-4cf...|         582871688|    standard|       hn5|VN034025004|          dn|      VN058002015| successful_delivery|    delivered_by_3pl|       null|Đối tác ghi nhận ...|            null|2022-09-03 03:14:12|   null|tms.system.auto@g...|lastmile:driverba...|\n",
      "|532eea67-942a-4cf...|         582871688|    standard|       hn5|VN034025004|          dn|      VN058002015|  transferred_to_3pl|          in_transit|       null|JNT - Đang luân c...|            null|2022-09-02 02:48:24|   null|  customers:24570065|request:managemen...|\n",
      "|532eea67-942a-4cf...|         582871688|    standard|       hn5|VN034025004|          dn|      VN058002015|  transferred_to_3pl|   successful_pickup|       null|JNT - Lấy hàng th...|            null|2022-09-02 01:32:11|   null|  customers:24570065|request:managemen...|\n",
      "|532eea67-942a-4cf...|         582871688|    standard|       hn5|VN034025004|          dn|      VN058002015|  transferred_to_3pl|arrived_at_lastmi...|       null|JNT - Tới trạm gi...|            null|2022-09-02 03:36:08|   null|  customers:24570065|request:managemen...|\n",
      "|532eea67-942a-4cf...|         582871688|    standard|       hn5|VN034025004|          dn|      VN058002015|  transferred_to_3pl|                null|       null|PBG: TMS/2022/09/...|            null|2022-09-01 16:38:57|     dn|    accounts:1026347|request:managemen...|\n",
      "|532eea67-942a-4cf...|         582871688|    standard|       hn5|VN034025004|          dn|      VN058002015|confirmed_in_mast...|                null|       null|MB: MBP/2022/08/0...|            null|2022-09-01 16:38:15|     dn|    accounts:1026347|        box:unpacked|\n",
      "|532eea67-942a-4cf...|         582871688|    standard|       hn5|VN034025004|          dn|      VN058002015|confirmed_in_mast...|                null|       null|Cập nhật thông ti...|            null|2022-09-01 16:38:15|   null|    accounts:1026347|box:route_shipmen...|\n",
      "|532eea67-942a-4cf...|         582871688|    standard|       hn5|VN034025004|          dn|      VN058002015|arrived_at_destin...|                null|       null|MB: MBP/2022/08/0...|            null|2022-09-01 16:35:56|     dn|    accounts:1026347|request:managemen...|\n",
      "|532eea67-942a-4cf...|         582871688|    standard|       hn5|VN034025004|          dn|      VN058002015| packed_in_masterbox|                null|       null|MB: MBP/2022/08/0...|            null|2022-08-31 09:56:48|    hn5|    accounts:1011622|  box:master_created|\n",
      "|532eea67-942a-4cf...|         582871688|    standard|       hn5|VN034025004|          dn|      VN058002015|arrived_at_transi...|                null|       null|MB: MBP/2022/08/0...|            null|2022-08-31 16:44:43|    hn4|    accounts:1021322|request:managemen...|\n",
      "|532eea67-942a-4cf...|         582871688|    standard|       hn5|VN034025004|          dn|      VN058002015|          in_transit|                null|       null|MB: MBP/2022/08/0...|            null|2022-08-31 16:47:08|    hn4|    accounts:1021322|request:managemen...|\n",
      "|532eea67-942a-4cf...|         582871688|    standard|       hn5|VN034025004|          dn|      VN058002015|             storing|                null|       null|   Nhập kho Sort hn5|            null|2022-08-31 09:55:29|    hn5|    accounts:1027126|request:managemen...|\n",
      "|532eea67-942a-4cf...|         582871688|    standard|       hn5|VN034025004|          dn|      VN058002015|             storing|   successful_pickup|       null|Xác nhận lấy hàng...|            null|2022-08-31 09:55:31|    hn5|    accounts:1027126|lastmile:runsheet...|\n",
      "|532eea67-942a-4cf...|         582871688|    standard|       hn5|VN034025004|          dn|      VN058002015|             storing|                null|       null|Cập nhật thông ti...|            null|2022-08-31 09:55:31|   null|    accounts:1027126|box:route_shipmen...|\n",
      "+--------------------+------------------+------------+----------+-----------+------------+-----------------+--------------------+--------------------+-----------+--------------------+----------------+-------------------+-------+--------------------+--------------------+\n",
      "only showing top 20 rows\n",
      "\n"
     ]
    }
   ],
   "source": [
    "box_status_df.show()"
   ]
  },
  {
   "cell_type": "code",
   "execution_count": 12,
   "id": "6e434439",
   "metadata": {},
   "outputs": [],
   "source": [
    "from pyspark.sql.functions import *\n",
    "from pyspark.sql.window import Window"
   ]
  },
  {
   "cell_type": "code",
   "execution_count": 13,
   "id": "2c044e78",
   "metadata": {},
   "outputs": [
    {
     "name": "stdout",
     "output_type": "stream",
     "text": [
      "+--------------------+--------------------+-------------------+\n",
      "|              box_id|              status|               time|\n",
      "+--------------------+--------------------+-------------------+\n",
      "|000de80b-c61a-4b6...|waiting_for_picki...|2022-09-01 08:38:56|\n",
      "|000de80b-c61a-4b6...|ready_for_picking_up|2022-09-01 09:26:34|\n",
      "|000de80b-c61a-4b6...|ready_for_picking_up|2022-09-01 09:26:35|\n",
      "|000de80b-c61a-4b6...|ready_for_picking_up|2022-09-01 09:26:35|\n",
      "|000de80b-c61a-4b6...|ready_for_picking_up|2022-09-01 09:27:05|\n",
      "|000de80b-c61a-4b6...|ready_for_picking_up|2022-09-03 00:25:18|\n",
      "|000de80b-c61a-4b6...|ready_for_picking_up|2022-09-03 02:37:08|\n",
      "|000de80b-c61a-4b6...|             picking|2022-09-03 04:40:45|\n",
      "|000de80b-c61a-4b6...|             storing|2022-09-03 04:47:11|\n",
      "|000de80b-c61a-4b6...|             storing|2022-09-03 04:47:12|\n",
      "|000de80b-c61a-4b6...|             storing|2022-09-03 04:47:20|\n",
      "|000de80b-c61a-4b6...| packed_in_masterbox|2022-09-03 05:30:06|\n",
      "|000de80b-c61a-4b6...|          in_transit|2022-09-03 05:32:06|\n",
      "|000de80b-c61a-4b6...|arrived_at_destin...|2022-09-03 06:23:40|\n",
      "|000de80b-c61a-4b6...|confirmed_in_mast...|2022-09-03 06:25:52|\n",
      "|000de80b-c61a-4b6...|confirmed_in_mast...|2022-09-03 06:25:53|\n",
      "|000de80b-c61a-4b6...| packed_in_masterbox|2022-09-03 08:51:29|\n",
      "|000de80b-c61a-4b6...|          in_transit|2022-09-03 09:00:22|\n",
      "|000de80b-c61a-4b6...|arrived_at_destin...|2022-09-04 18:47:04|\n",
      "|000de80b-c61a-4b6...|confirmed_in_mast...|2022-09-04 19:08:34|\n",
      "+--------------------+--------------------+-------------------+\n",
      "only showing top 20 rows\n",
      "\n"
     ]
    }
   ],
   "source": [
    "box_status_short = box_status_df.select(\"box_id\", \"status\", to_timestamp(\"updated_time\").alias(\"time\")).orderBy(\"box_id\", \"time\")\n",
    "box_status_short.show()"
   ]
  },
  {
   "cell_type": "code",
   "execution_count": 14,
   "id": "44701060",
   "metadata": {
    "scrolled": false
   },
   "outputs": [
    {
     "name": "stdout",
     "output_type": "stream",
     "text": [
      "+--------------------+--------------------+-------------------+\n",
      "|              box_id|              status|               time|\n",
      "+--------------------+--------------------+-------------------+\n",
      "|000de80b-c61a-4b6...|waiting_for_picki...|2022-09-01 08:38:56|\n",
      "|000de80b-c61a-4b6...|ready_for_picking_up|2022-09-01 09:26:34|\n",
      "|000de80b-c61a-4b6...|             picking|2022-09-03 04:40:45|\n",
      "|000de80b-c61a-4b6...|             storing|2022-09-03 04:47:11|\n",
      "|000de80b-c61a-4b6...| packed_in_masterbox|2022-09-03 05:30:06|\n",
      "|000de80b-c61a-4b6...|          in_transit|2022-09-03 05:32:06|\n",
      "|000de80b-c61a-4b6...|arrived_at_destin...|2022-09-03 06:23:40|\n",
      "|000de80b-c61a-4b6...|confirmed_in_mast...|2022-09-03 06:25:52|\n",
      "|000de80b-c61a-4b6...| packed_in_masterbox|2022-09-03 08:51:29|\n",
      "|000de80b-c61a-4b6...|          in_transit|2022-09-03 09:00:22|\n",
      "|000de80b-c61a-4b6...|arrived_at_destin...|2022-09-04 18:47:04|\n",
      "|000de80b-c61a-4b6...|confirmed_in_mast...|2022-09-04 19:08:34|\n",
      "|000de80b-c61a-4b6...| packed_in_masterbox|2022-09-04 19:37:00|\n",
      "|000de80b-c61a-4b6...|          in_transit|2022-09-04 19:37:17|\n",
      "|000de80b-c61a-4b6...|arrived_at_destin...|2022-09-05 00:46:10|\n",
      "|000de80b-c61a-4b6...|confirmed_in_mast...|2022-09-05 00:46:46|\n",
      "|000de80b-c61a-4b6...|          delivering|2022-09-05 02:06:18|\n",
      "|000de80b-c61a-4b6...| successful_delivery|2022-09-05 06:37:45|\n",
      "|000de80b-c61a-4b6...|           completed|2022-09-05 06:37:46|\n",
      "|0013383b-7873-4a5...|waiting_for_picki...|2022-08-04 03:14:28|\n",
      "+--------------------+--------------------+-------------------+\n",
      "only showing top 20 rows\n",
      "\n"
     ]
    }
   ],
   "source": [
    "windowSpec = Window.partitionBy(\"box_id\").orderBy(\"box_id\")\n",
    "df = box_status_short.withColumn(\"statuslag\", lag(\"status\",1).over(windowSpec))\n",
    "df2 =df.withColumn(\"result\", when(df.status == df.statuslag, 0).otherwise(1))\n",
    "box_status_sorted = df2.filter(df2.result == 1).orderBy(\"box_id\", \"time\").drop(\"statuslag\", \"result\")\n",
    "box_status_sorted.show()\n",
    "\n",
    "# simplify box status"
   ]
  },
  {
   "cell_type": "code",
   "execution_count": 15,
   "id": "d25b0b1d",
   "metadata": {},
   "outputs": [
    {
     "name": "stdout",
     "output_type": "stream",
     "text": [
      "+--------------------+-----------+-----------------+\n",
      "|              box_id|pickup_code|delivery_tikicode|\n",
      "+--------------------+-----------+-----------------+\n",
      "|c938ca85-bb39-4e2...|VN039009004|      VN012007002|\n",
      "|6e6907dc-eb25-457...|VN034022009|      VN034022009|\n",
      "|b038cb2d-f73c-441...|VN039023010|      VN017006013|\n",
      "|6aa0e4f7-33e6-4f9...|VN034022005|      VN034022001|\n",
      "|3be77f79-cd1f-472...|VN034021010|      VN059010013|\n",
      "|767fcc3d-8e1c-4fa...|VN034022005|      VN034022002|\n",
      "|ee23dcde-f5d9-464...|VN039023004|      VN054012009|\n",
      "|79cbe234-f082-464...|VN034029004|      VN039010006|\n",
      "|a4c3e5ad-6198-447...|VN039009005|      VN039020011|\n",
      "|298d078d-c46a-498...|VN034022003|      VN055009007|\n",
      "|875a6e16-25c2-4a5...|VN039009005|      VN039010003|\n",
      "|4d831e1c-a649-446...|VN039020001|      VN034024007|\n",
      "|5c7ea77e-b8d6-444...|VN034016002|      VN034016027|\n",
      "|9999999a-02df-418...|VN039022015|      VN040011006|\n",
      "|38313f9c-4d82-441...|VN039018004|      VN039010001|\n",
      "|789316de-904b-47a...|VN039020012|      VN012006009|\n",
      "|56f27d7f-271c-482...|VN049003004|      VN039018001|\n",
      "|62446dfa-d07e-4b1...|VN039024001|      VN012008001|\n",
      "|4b617c9d-b77a-4f8...|VN039023010|      VN011001008|\n",
      "|100829c4-b400-4fa...|VN039008003|      VN039010010|\n",
      "+--------------------+-----------+-----------------+\n",
      "only showing top 20 rows\n",
      "\n"
     ]
    }
   ],
   "source": [
    "box_tmp = box_status_df.select(\"box_id\", \"pickup_code\", \"delivery_tikicode\").distinct()\n",
    "box_tmp.show()\n",
    "\n",
    "# get pickup and delivery code"
   ]
  },
  {
   "cell_type": "code",
   "execution_count": 16,
   "id": "969be308",
   "metadata": {},
   "outputs": [],
   "source": [
    "tiki_code_df=spark.read.option('header','true').option(\"multiLine\", \"true\").csv('DataDemo/17. TikiCode.csv',inferSchema=True)"
   ]
  },
  {
   "cell_type": "code",
   "execution_count": 17,
   "id": "ae746803",
   "metadata": {},
   "outputs": [],
   "source": [
    "tk_df = tiki_code_df.select(\"tiki_code_ward\", \"kv_sale\")"
   ]
  },
  {
   "cell_type": "code",
   "execution_count": 18,
   "id": "8209247e",
   "metadata": {},
   "outputs": [
    {
     "name": "stdout",
     "output_type": "stream",
     "text": [
      "+--------------------+---------+\n",
      "|              box_id|kv_pickup|\n",
      "+--------------------+---------+\n",
      "|c938ca85-bb39-4e2...|        1|\n",
      "|6e6907dc-eb25-457...|        3|\n",
      "|b038cb2d-f73c-441...|        1|\n",
      "|6aa0e4f7-33e6-4f9...|        3|\n",
      "|3be77f79-cd1f-472...|        3|\n",
      "|767fcc3d-8e1c-4fa...|        3|\n",
      "|ee23dcde-f5d9-464...|        1|\n",
      "|79cbe234-f082-464...|        3|\n",
      "|a4c3e5ad-6198-447...|        1|\n",
      "|298d078d-c46a-498...|        3|\n",
      "|875a6e16-25c2-4a5...|        1|\n",
      "|4d831e1c-a649-446...|        1|\n",
      "|5c7ea77e-b8d6-444...|        3|\n",
      "|9999999a-02df-418...|        1|\n",
      "|38313f9c-4d82-441...|        1|\n",
      "|789316de-904b-47a...|        1|\n",
      "|56f27d7f-271c-482...|        1|\n",
      "|62446dfa-d07e-4b1...|        1|\n",
      "|4b617c9d-b77a-4f8...|        1|\n",
      "|100829c4-b400-4fa...|        1|\n",
      "+--------------------+---------+\n",
      "only showing top 20 rows\n",
      "\n"
     ]
    }
   ],
   "source": [
    "df_tmp = box_tmp.join(tk_df.withColumnRenamed(\"kv_sale\", \"kv_pickup\"), box_tmp.pickup_code == tk_df.tiki_code_ward, \"inner\") \\\n",
    ".select(\"box_id\", \"kv_pickup\")\n",
    "df_tmp.show()\n",
    "\n",
    "# get pickup region"
   ]
  },
  {
   "cell_type": "code",
   "execution_count": 19,
   "id": "1ed19fa2",
   "metadata": {},
   "outputs": [
    {
     "name": "stdout",
     "output_type": "stream",
     "text": [
      "+--------------------+-----------+\n",
      "|              box_id|kv_delivery|\n",
      "+--------------------+-----------+\n",
      "|c938ca85-bb39-4e2...|          1|\n",
      "|6e6907dc-eb25-457...|          3|\n",
      "|b038cb2d-f73c-441...|          1|\n",
      "|6aa0e4f7-33e6-4f9...|          3|\n",
      "|3be77f79-cd1f-472...|          3|\n",
      "|767fcc3d-8e1c-4fa...|          3|\n",
      "|ee23dcde-f5d9-464...|          3|\n",
      "|79cbe234-f082-464...|          1|\n",
      "|a4c3e5ad-6198-447...|          1|\n",
      "|298d078d-c46a-498...|          1|\n",
      "|875a6e16-25c2-4a5...|          1|\n",
      "|4d831e1c-a649-446...|          3|\n",
      "|5c7ea77e-b8d6-444...|          3|\n",
      "|9999999a-02df-418...|          3|\n",
      "|38313f9c-4d82-441...|          1|\n",
      "|789316de-904b-47a...|          1|\n",
      "|56f27d7f-271c-482...|          1|\n",
      "|62446dfa-d07e-4b1...|          1|\n",
      "|4b617c9d-b77a-4f8...|          1|\n",
      "|100829c4-b400-4fa...|          1|\n",
      "+--------------------+-----------+\n",
      "only showing top 20 rows\n",
      "\n"
     ]
    }
   ],
   "source": [
    "df_tmp2 = box_tmp.join(tk_df.withColumnRenamed(\"kv_sale\", \"kv_delivery\"), box_tmp.delivery_tikicode == tk_df.tiki_code_ward, \"inner\") \\\n",
    ".select(\"box_id\", \"kv_delivery\")\n",
    "df_tmp2.show()\n",
    "\n",
    "# get delivery region"
   ]
  },
  {
   "cell_type": "code",
   "execution_count": 26,
   "id": "e59f3116",
   "metadata": {},
   "outputs": [
    {
     "name": "stdout",
     "output_type": "stream",
     "text": [
      "+--------------------+-------------------+-------------------+--------+-------------+------------------+\n",
      "|              box_id|          min(time)|          max(time)|count(1)|DiffInSeconds|    AverageTimeB2S|\n",
      "+--------------------+-------------------+-------------------+--------+-------------+------------------+\n",
      "|000de80b-c61a-4b6...|2022-09-01 08:38:56|2022-09-05 06:37:46|      19|       338330| 18796.11111111111|\n",
      "|0013383b-7873-4a5...|2022-08-04 03:14:28|2022-08-07 08:53:22|      12|       279534| 25412.18181818182|\n",
      "|001f674e-b89c-41a...|2022-09-04 21:05:39|2022-09-07 04:32:28|      17|       199609|        12475.5625|\n",
      "|0039e926-3ff9-426...|2022-07-16 07:55:00|2022-07-20 09:14:46|      16|       350386|23359.066666666666|\n",
      "|003cb878-42d0-40a...|2022-07-31 06:23:34|2022-08-02 05:48:00|      18|       170666|10039.176470588236|\n",
      "|00424424-1f55-454...|2022-09-02 13:20:09|2022-09-06 09:58:15|      13|       333486|           27790.5|\n",
      "|0043ee67-44d7-4e2...|2022-08-20 06:40:21|2022-08-20 15:01:46|       9|        30085|          3760.625|\n",
      "|004cb51e-fa84-450...|2022-07-24 02:56:40|2022-07-26 05:18:46|      10|       181326|20147.333333333332|\n",
      "|00683648-d4f6-4ea...|2022-08-06 08:34:00|2022-08-08 02:54:27|      11|       152427|           15242.7|\n",
      "|00684fe0-de00-46f...|2022-08-29 20:35:55|2022-08-31 05:13:48|      12|       117473|10679.363636363636|\n",
      "|006947c1-19b2-404...|2022-08-20 07:28:31|2022-08-20 15:20:38|      10|        28327|3147.4444444444443|\n",
      "|007b39b4-c5e5-4be...|2022-07-14 03:12:23|2022-07-18 06:00:20|      20|       355677|18719.842105263157|\n",
      "|008206dc-4c27-4b8...|2022-08-03 02:37:10|2022-08-03 14:50:43|       8|        44013| 6287.571428571428|\n",
      "|00900e92-62f3-4e9...|2022-08-24 05:52:39|2022-08-24 13:37:39|       3|        27900|           13950.0|\n",
      "|009109b5-420f-498...|2022-07-20 07:10:41|2022-07-23 07:53:27|      10|       261766| 29085.11111111111|\n",
      "|0095cc55-345c-4b0...|2022-07-19 02:32:15|2022-07-21 08:23:38|      16|       193883|12925.533333333333|\n",
      "|0095e658-9c44-47d...|2022-08-28 03:12:11|2022-09-01 08:56:22|       8|       366251| 52321.57142857143|\n",
      "|00acd5b9-18e0-42d...|2022-07-13 07:09:14|2022-07-18 08:39:25|      22|       437411|20829.095238095237|\n",
      "|00bf5b6a-f1e8-4f6...|2022-07-24 09:57:03|2022-07-26 03:11:32|      13|       148469|12372.416666666666|\n",
      "|00c533dc-016e-46a...|2022-07-29 02:45:08|2022-08-02 01:59:22|      18|       342854|20167.882352941175|\n",
      "+--------------------+-------------------+-------------------+--------+-------------+------------------+\n",
      "only showing top 20 rows\n",
      "\n"
     ]
    }
   ],
   "source": [
    "# box_status_sorted.groupBy(\"box_id\").min(to_timestamp(\"updated_time\"))\n",
    "df = box_status_sorted.groupBy(\"box_id\").agg(min(\"time\"), max(\"time\"), count(\"*\"))\n",
    "df_tmp3 = df.withColumn('DiffInSeconds',col(\"max(time)\").cast(\"long\") - col('min(time)').cast(\"long\")) \\\n",
    ".withColumn(\"AverageTimeB2S\", (col(\"DiffInSeconds\") / (col(\"count(1)\") - 1))).orderBy(\"box_id\")\n",
    "df_tmp3.show()\n",
    "\n",
    "# calculate average time between 2 box status of all boxes"
   ]
  },
  {
   "cell_type": "code",
   "execution_count": 21,
   "id": "fc26f7cd",
   "metadata": {},
   "outputs": [
    {
     "name": "stdout",
     "output_type": "stream",
     "text": [
      "+--------------------+------------------+---------+\n",
      "|              box_id|    AverageTimeB2S|kv_pickup|\n",
      "+--------------------+------------------+---------+\n",
      "|c938ca85-bb39-4e2...|          15972.25|        1|\n",
      "|6e6907dc-eb25-457...|         12546.125|        3|\n",
      "|b038cb2d-f73c-441...| 27882.88888888889|        1|\n",
      "|6aa0e4f7-33e6-4f9...|3506.1428571428573|        3|\n",
      "|3be77f79-cd1f-472...|31061.263157894737|        3|\n",
      "|767fcc3d-8e1c-4fa...|          11374.25|        3|\n",
      "|ee23dcde-f5d9-464...|           26691.0|        1|\n",
      "|79cbe234-f082-464...|           25669.4|        3|\n",
      "|a4c3e5ad-6198-447...|17414.285714285714|        1|\n",
      "|298d078d-c46a-498...| 80699.78571428571|        3|\n",
      "|875a6e16-25c2-4a5...|23714.384615384617|        1|\n",
      "|4d831e1c-a649-446...|           17344.8|        1|\n",
      "|5c7ea77e-b8d6-444...|           25290.0|        3|\n",
      "|9999999a-02df-418...|           59953.1|        1|\n",
      "|38313f9c-4d82-441...|           49952.0|        1|\n",
      "|789316de-904b-47a...| 10230.90909090909|        1|\n",
      "|56f27d7f-271c-482...|          135952.0|        1|\n",
      "|62446dfa-d07e-4b1...|13619.285714285714|        1|\n",
      "|4b617c9d-b77a-4f8...|51437.857142857145|        1|\n",
      "|100829c4-b400-4fa...|           12065.0|        1|\n",
      "+--------------------+------------------+---------+\n",
      "only showing top 20 rows\n",
      "\n"
     ]
    }
   ],
   "source": [
    "df_a = df_tmp3.join(df_tmp, [\"box_id\"], \"inner\")\n",
    "df_a.show()"
   ]
  },
  {
   "cell_type": "code",
   "execution_count": 22,
   "id": "97bf405e",
   "metadata": {},
   "outputs": [
    {
     "name": "stdout",
     "output_type": "stream",
     "text": [
      "+--------------------+------------------+---------+-----------+\n",
      "|              box_id|    AverageTimeB2S|kv_pickup|kv_delivery|\n",
      "+--------------------+------------------+---------+-----------+\n",
      "|000de80b-c61a-4b6...| 18796.11111111111|        3|          1|\n",
      "|0013383b-7873-4a5...| 25412.18181818182|        1|          1|\n",
      "|001f674e-b89c-41a...|        12475.5625|        1|          1|\n",
      "|0039e926-3ff9-426...|23359.066666666666|        3|          1|\n",
      "|003cb878-42d0-40a...|10039.176470588236|        1|          1|\n",
      "|00424424-1f55-454...|           27790.5|        1|          1|\n",
      "|0043ee67-44d7-4e2...|          3760.625|        3|          3|\n",
      "|004cb51e-fa84-450...|20147.333333333332|        1|          1|\n",
      "|00683648-d4f6-4ea...|           15242.7|        3|          3|\n",
      "|00684fe0-de00-46f...|10679.363636363636|        1|          1|\n",
      "|006947c1-19b2-404...|3147.4444444444443|        3|          3|\n",
      "|007b39b4-c5e5-4be...|18719.842105263157|        1|          1|\n",
      "|008206dc-4c27-4b8...| 6287.571428571428|        3|          3|\n",
      "|00900e92-62f3-4e9...|           13950.0|        1|          1|\n",
      "|009109b5-420f-498...| 29085.11111111111|        1|          1|\n",
      "|0095cc55-345c-4b0...|12925.533333333333|        1|          1|\n",
      "|0095e658-9c44-47d...| 52321.57142857143|        1|          1|\n",
      "|00acd5b9-18e0-42d...|20829.095238095237|        1|          3|\n",
      "|00bf5b6a-f1e8-4f6...|12372.416666666666|        1|          1|\n",
      "|00c533dc-016e-46a...|20167.882352941175|        3|          3|\n",
      "+--------------------+------------------+---------+-----------+\n",
      "only showing top 20 rows\n",
      "\n"
     ]
    }
   ],
   "source": [
    "df_b = df_a.join(df_tmp2, [\"box_id\"], \"inner\")\n",
    "df_b.orderBy(\"box_id\").show()\n",
    "\n",
    "# average time of box status and its regions\n",
    "# kv1 : mien nam, kv2 : mien trung, kv3: mien bac"
   ]
  },
  {
   "cell_type": "code",
   "execution_count": 23,
   "id": "68ac7b3d",
   "metadata": {},
   "outputs": [],
   "source": [
    "df_c = df_b.groupBy(\"kv_pickup\", \"kv_delivery\").agg({\"AverageTimeB2S\":\"avg\"}).withColumn(\"inHours\", col(\"avg(AverageTimeB2S)\")/3600)\n",
    "\n",
    "# get average time for each delivery type"
   ]
  },
  {
   "cell_type": "code",
   "execution_count": 25,
   "id": "c7dc8978",
   "metadata": {},
   "outputs": [],
   "source": [
    "df_c.toPandas().to_csv('AvgTimeBoxStatus.csv')"
   ]
  },
  {
   "cell_type": "code",
   "execution_count": null,
   "id": "f0928577",
   "metadata": {},
   "outputs": [],
   "source": []
  }
 ],
 "metadata": {
  "kernelspec": {
   "display_name": "Python 3 (ipykernel)",
   "language": "python",
   "name": "python3"
  },
  "language_info": {
   "codemirror_mode": {
    "name": "ipython",
    "version": 3
   },
   "file_extension": ".py",
   "mimetype": "text/x-python",
   "name": "python",
   "nbconvert_exporter": "python",
   "pygments_lexer": "ipython3",
   "version": "3.10.7"
  }
 },
 "nbformat": 4,
 "nbformat_minor": 5
}
